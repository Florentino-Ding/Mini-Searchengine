{
 "cells": [
  {
   "cell_type": "code",
   "execution_count": 1,
   "metadata": {},
   "outputs": [],
   "source": [
    "from base import SearchEngine"
   ]
  },
  {
   "cell_type": "code",
   "execution_count": 2,
   "metadata": {},
   "outputs": [],
   "source": [
    "arg_dict = {\"page\": [\"http://ai.ruc.edu.cn/\"], \"scope\": [\"http://ai.ruc.edu.cn,https://rdzs.ruc.edu.cn/,https://gsai.ruc.edu.cn/\",]}"
   ]
  },
  {
   "cell_type": "code",
   "execution_count": 3,
   "metadata": {},
   "outputs": [],
   "source": [
    "engine = SearchEngine(\n",
    "        arg_dict[\"page\"],\n",
    "        arg_dict[\"scope\"],\n",
    "        \"html\",\n",
    "        \"cache\",\n",
    "        \"wordsdict\",\n",
    "        \"cache\",\n",
    "        \"stopwords/baidu_stopwords.txt\",\n",
    "    )"
   ]
  },
  {
   "cell_type": "code",
   "execution_count": 26,
   "metadata": {},
   "outputs": [
    {
     "data": {
      "text/plain": [
       "['http://rdzs.ruc.edu.cn/cms/item/1885.html',\n",
       " 'https://rdzs.ruc.edu.cn/cms/item/1885.html',\n",
       " 'https://rdzs.ruc.edu.cn/cms/item/428.html',\n",
       " 'http://rdzs.ruc.edu.cn/cms/item/428.html',\n",
       " 'https://rdzs.ruc.edu.cn/cms/item/699.html',\n",
       " 'http://rdzs.ruc.edu.cn/cms/item/699.html',\n",
       " 'http://rdzs.ruc.edu.cn/cms/item/1924.html',\n",
       " 'https://rdzs.ruc.edu.cn/cms/item/1924.html',\n",
       " 'https://rdzs.ruc.edu.cn/cms/list/rdzz/?cat=64',\n",
       " 'http://rdzs.ruc.edu.cn/cms/item/674.html',\n",
       " 'https://rdzs.ruc.edu.cn/cms/item/674.html',\n",
       " 'https://rdzs.ruc.edu.cn/cms/item/427.html',\n",
       " 'http://rdzs.ruc.edu.cn/cms/item/427.html',\n",
       " 'http://rdzs.ruc.edu.cn/cms/item/1886.html',\n",
       " 'https://rdzs.ruc.edu.cn/cms/item/1886.html',\n",
       " 'http://rdzs.ruc.edu.cn/cms/list/zszc/?cat=10',\n",
       " 'http://rdzs.ruc.edu.cn/cms/view/professional/105/',\n",
       " 'http://rdzs.ruc.edu.cn/cms/list/zszc/?cat=59',\n",
       " 'http://rdzs.ruc.edu.cn/cms/item/1032.html',\n",
       " 'https://rdzs.ruc.edu.cn/cms/item/1032.html']"
      ]
     },
     "execution_count": 26,
     "metadata": {},
     "output_type": "execute_result"
    }
   ],
   "source": [
    "result = engine.search(\"中国\")\n",
    "result"
   ]
  },
  {
   "cell_type": "code",
   "execution_count": null,
   "metadata": {},
   "outputs": [],
   "source": []
  }
 ],
 "metadata": {
  "kernelspec": {
   "display_name": "base",
   "language": "python",
   "name": "python3"
  },
  "language_info": {
   "codemirror_mode": {
    "name": "ipython",
    "version": 3
   },
   "file_extension": ".py",
   "mimetype": "text/x-python",
   "name": "python",
   "nbconvert_exporter": "python",
   "pygments_lexer": "ipython3",
   "version": "3.9.15"
  },
  "orig_nbformat": 4
 },
 "nbformat": 4,
 "nbformat_minor": 2
}
